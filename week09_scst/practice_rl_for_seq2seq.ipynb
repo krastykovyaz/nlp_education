{
  "cells": [
    {
      "cell_type": "markdown",
      "metadata": {
        "id": "9ODE1MbUyz0Z"
      },
      "source": [
        "# week08: Self-critical Sequence Training\n",
        "*Acknowledgements to the [Practical_RL](https://github.com/yandexdataschool/Practical_RL) course team for this notebook.*\n",
        "\n",
        "This time we'll solve a problem of transribing hebrew words in english, also known as g2p (grapheme2phoneme)\n",
        "\n",
        " * word (sequence of letters in source language) -> translation (sequence of letters in target language)\n",
        "\n",
        "Unlike what most deep learning practicioners do, we won't only train it to maximize likelihood of correct translation, but also employ reinforcement learning to actually teach it to translate with as few errors as possible.\n",
        "\n",
        "\n",
        "### About the task\n",
        "\n",
        "One notable property of Hebrew is that it's consonant language. That is, there are no wovels in the written language. One could represent wovels with diacritics above consonants, but you don't expect people to do that in everyay life.\n",
        "\n",
        "Therefore, some hebrew characters will correspond to several english letters and others - to none, so we should use encoder-decoder architecture to figure that out.\n",
        "\n",
        "![img](https://esciencegroup.files.wordpress.com/2016/03/seq2seq.jpg)\n",
        "_(img: esciencegroup.files.wordpress.com)_\n",
        "\n",
        "Encoder-decoder architectures are about converting anything to anything, including\n",
        " * Machine translation and spoken dialogue systems\n",
        " * [Image captioning](http://mscoco.org/dataset/#captions-challenge2015) and [image2latex](https://htmlpreview.github.io/?https://github.com/openai/requests-for-research/blob/master/_requests_for_research/im2latex.html) (convolutional encoder, recurrent decoder)\n",
        " * Generating [images by captions](https://arxiv.org/abs/1511.02793) (recurrent encoder, convolutional decoder)\n",
        " * Grapheme2phoneme - convert words to transcripts\n",
        "  \n",
        "We chose simplified __Hebrew->English__ machine translation for words and short phrases (character-level), as it is relatively quick to train even without a gpu cluster."
      ]
    },
    {
      "cell_type": "code",
      "execution_count": null,
      "metadata": {
        "id": "YxzJKUTLyz0j",
        "outputId": "dcf0d5fb-49a3-4ef8-931a-ae3d3959a651"
      },
      "outputs": [
        {
          "name": "stdout",
          "output_type": "stream",
          "text": [
            "File ‘basic_model_torch.py’ already there; not retrieving.\n",
            "File ‘main_dataset.txt’ already there; not retrieving.\n",
            "File ‘voc.py’ already there; not retrieving.\n"
          ]
        }
      ],
      "source": [
        "# # if running in colab, uncomment\n",
        "!wget https://raw.githubusercontent.com/girafe-ai/reinforcement-learning/master/week08_rl_outside_the_games/basic_model_torch.py -O basic_model_torch.py\n",
        "!wget https://raw.githubusercontent.com/girafe-ai/reinforcement-learning/master/week08_rl_outside_the_games/main_dataset.txt -O main_dataset.txt\n",
        "!wget https://raw.githubusercontent.com/girafe-ai/reinforcement-learning/master/week08_rl_outside_the_games/voc.py -O voc.py\n",
        "# !pip install nltk editdistance"
      ]
    },
    {
      "cell_type": "code",
      "execution_count": null,
      "metadata": {
        "id": "CXeHzs83yz0q"
      },
      "outputs": [],
      "source": [
        "# If True, only translates phrases shorter than 20 characters (way easier).\n",
        "EASY_MODE = True\n",
        "# Useful for initial coding.\n",
        "# If false, works with all phrases (please switch to this mode for homework assignment)\n",
        "\n",
        "# way we translate. Either \"he-to-en\" or \"en-to-he\"\n",
        "MODE = \"he-to-en\"\n",
        "# maximal length of _generated_ output, does not affect training\n",
        "MAX_OUTPUT_LENGTH = 50 if not EASY_MODE else 20\n",
        "REPORT_FREQ = 100                          # how often to evaluate validation score"
      ]
    },
    {
      "cell_type": "markdown",
      "metadata": {
        "id": "22NTrshUyz0r"
      },
      "source": [
        "### Step 1: preprocessing\n",
        "\n",
        "We shall store dataset as a dictionary\n",
        "`{ word1:[translation1,translation2,...], word2:[...],...}`.\n",
        "\n",
        "This is mostly due to the fact that many words have several correct translations.\n",
        "\n",
        "We have implemented this thing for you so that you can focus on more interesting parts.\n",
        "\n",
        "\n",
        "__Attention python2 users!__ You may want to cast everything to unicode later during homework phase, just make sure you do it _everywhere_."
      ]
    },
    {
      "cell_type": "code",
      "execution_count": null,
      "metadata": {
        "id": "Puzzl651yz0u",
        "outputId": "a637cab3-2254-4fcf-dbe1-f538da421f0a"
      },
      "outputs": [
        {
          "name": "stdout",
          "output_type": "stream",
          "text": [
            "size =  130113\n"
          ]
        }
      ],
      "source": [
        "import numpy as np\n",
        "from collections import defaultdict\n",
        "word_to_translation = defaultdict(list)  # our dictionary\n",
        "\n",
        "bos = '_'\n",
        "eos = ';'\n",
        "\n",
        "with open(\"main_dataset.txt\", encoding=\"utf-8\") as fin:\n",
        "    for line in fin:\n",
        "\n",
        "        en, he = line[:-1].lower().replace(bos, ' ').replace(eos,\n",
        "                                                             ' ').split('\\t')\n",
        "        word, trans = (he, en) if MODE == 'he-to-en' else (en, he)\n",
        "\n",
        "        if len(word) < 3:\n",
        "            continue\n",
        "        if EASY_MODE:\n",
        "            if max(len(word), len(trans)) > 20:\n",
        "                continue\n",
        "\n",
        "        word_to_translation[word].append(trans)\n",
        "\n",
        "print(\"size = \", len(word_to_translation))"
      ]
    },
    {
      "cell_type": "code",
      "execution_count": null,
      "metadata": {
        "id": "U0yoB4q2yz0x"
      },
      "outputs": [],
      "source": [
        "# get all unique lines in source language\n",
        "all_words = np.array(list(word_to_translation.keys()))\n",
        "# get all unique lines in translation language\n",
        "all_translations = np.array(\n",
        "    [ts for all_ts in word_to_translation.values() for ts in all_ts])"
      ]
    },
    {
      "cell_type": "markdown",
      "metadata": {
        "id": "pxISE4-0yz00"
      },
      "source": [
        "### split the dataset\n",
        "\n",
        "We hold out 10% of all words to be used for validation.\n"
      ]
    },
    {
      "cell_type": "code",
      "execution_count": null,
      "metadata": {
        "id": "Ka9WShdPyz01"
      },
      "outputs": [],
      "source": [
        "from sklearn.model_selection import train_test_split\n",
        "train_words, test_words = train_test_split(\n",
        "    all_words, test_size=0.1, random_state=42)"
      ]
    },
    {
      "cell_type": "code",
      "execution_count": null,
      "metadata": {
        "id": "Ql-zVzR7yz03",
        "outputId": "302de87d-dc88-4cfb-b77b-1434a2495870"
      },
      "outputs": [
        {
          "data": {
            "text/plain": [
              "13012"
            ]
          },
          "execution_count": 35,
          "metadata": {},
          "output_type": "execute_result"
        }
      ],
      "source": [
        "len(test_words)"
      ]
    },
    {
      "cell_type": "markdown",
      "metadata": {
        "id": "cZ7UJ36Tyz06"
      },
      "source": [
        "### Building vocabularies\n",
        "\n",
        "We now need to build vocabularies that map strings to token ids and vice versa. We're gonna need these fellas when we feed training data into model or convert output matrices into english words."
      ]
    },
    {
      "cell_type": "code",
      "execution_count": null,
      "metadata": {
        "id": "SOlStyZYyz07"
      },
      "outputs": [],
      "source": [
        "from voc import Vocab\n",
        "inp_voc = Vocab.from_lines(''.join(all_words), bos=bos, eos=eos, sep='')\n",
        "out_voc = Vocab.from_lines(''.join(all_translations), bos=bos, eos=eos, sep='')"
      ]
    },
    {
      "cell_type": "code",
      "execution_count": null,
      "metadata": {
        "id": "QeqgnIG7yz0-",
        "outputId": "4ae2269a-b19e-44b2-e1c0-842f06cd041e"
      },
      "outputs": [
        {
          "data": {
            "text/plain": [
              "283"
            ]
          },
          "execution_count": 14,
          "metadata": {},
          "output_type": "execute_result"
        }
      ],
      "source": [
        "len(out_voc.tokens)"
      ]
    },
    {
      "cell_type": "code",
      "execution_count": null,
      "metadata": {
        "id": "CIB4qLLQyz0_",
        "outputId": "90e584ad-b13a-4c9b-d3a9-3c1ea3f3fc2c"
      },
      "outputs": [
        {
          "data": {
            "text/plain": [
              "189"
            ]
          },
          "execution_count": 15,
          "metadata": {},
          "output_type": "execute_result"
        }
      ],
      "source": [
        "len(inp_voc.tokens)"
      ]
    },
    {
      "cell_type": "code",
      "execution_count": null,
      "metadata": {
        "id": "XO4ZqWE5yz1A",
        "outputId": "76cc798c-6d1b-4571-800e-6e898b3f882d"
      },
      "outputs": [
        {
          "name": "stdout",
          "output_type": "stream",
          "text": [
            "lines\n",
            "['אנרכיזם' 'אוטיזם קלאסי' 'אלבדו' 'אלבמה' 'אכילס']\n",
            "\n",
            "words to ids (0 = bos, 1 = eos):\n",
            "[[  0   2  48  19  65   7 184   8   1   1   1   1   1   1]\n",
            " [  0   2 167 138   7 184   8 143 132 149   2 150   7   1]\n",
            " [  0   2 149  10  50 167   1   1   1   1   1   1   1   1]\n",
            " [  0   2 149  10  53 157   1   1   1   1   1   1   1   1]\n",
            " [  0   2  65   7 149 150   1   1   1   1   1   1   1   1]]\n",
            "\n",
            "back to words\n",
            "['אנרכיזם', 'אוטיזם קלאסי', 'אלבדו', 'אלבמה', 'אכילס']\n"
          ]
        }
      ],
      "source": [
        "# Here's how you cast lines into ids and backwards.\n",
        "batch_lines = all_words[:5]\n",
        "batch_ids = inp_voc.to_matrix(batch_lines)\n",
        "batch_lines_restored = inp_voc.to_lines(batch_ids)\n",
        "\n",
        "print(\"lines\")\n",
        "print(batch_lines)\n",
        "print(\"\\nwords to ids (0 = bos, 1 = eos):\")\n",
        "print(batch_ids)\n",
        "print(\"\\nback to words\")\n",
        "print(batch_lines_restored)"
      ]
    },
    {
      "cell_type": "markdown",
      "metadata": {
        "id": "c1E5CO43yz1C"
      },
      "source": [
        "Draw word/translation length distributions to estimate the scope of the task."
      ]
    },
    {
      "cell_type": "code",
      "execution_count": null,
      "metadata": {
        "id": "wlmgMdObyz1D",
        "outputId": "7e40fc63-2b6e-445b-9cf0-4eeed9550be6"
      },
      "outputs": [
        {
          "data": {
            "text/plain": [
              "(array([   21.,   112.,  3098.,  8157., 11482., 12556., 11430.,  9568.,\n",
              "         9254.,  9755., 10299., 11123., 11203., 10840.,  9316.,  7873.,\n",
              "         6527.,  5523.,  4505.,  3684.]),\n",
              " array([ 1.  ,  1.95,  2.9 ,  3.85,  4.8 ,  5.75,  6.7 ,  7.65,  8.6 ,\n",
              "         9.55, 10.5 , 11.45, 12.4 , 13.35, 14.3 , 15.25, 16.2 , 17.15,\n",
              "        18.1 , 19.05, 20.  ]),\n",
              " <a list of 20 Patch objects>)"
            ]
          },
          "execution_count": 16,
          "metadata": {},
          "output_type": "execute_result"
        },
        {
          "data": {
            "image/png": "[encoded data removed]",
            "text/plain": [
              "<Figure size 576x288 with 2 Axes>"
            ]
          },
          "metadata": {
            "needs_background": "light"
          },
          "output_type": "display_data"
        }
      ],
      "source": [
        "import matplotlib.pyplot as plt\n",
        "%matplotlib inline\n",
        "plt.figure(figsize=[8, 4])\n",
        "plt.subplot(1, 2, 1)\n",
        "plt.title(\"words\")\n",
        "plt.hist(list(map(len, all_words)), bins=20)\n",
        "\n",
        "plt.subplot(1, 2, 2)\n",
        "plt.title('translations')\n",
        "plt.hist(list(map(len, all_translations)), bins=20)"
      ]
    },
    {
      "cell_type": "markdown",
      "metadata": {
        "id": "04IJna5iyz1E"
      },
      "source": [
        "### Step 3: deploy encoder-decoder \n",
        "\n",
        "__assignment starts here__\n",
        "\n",
        "Our architecture consists of two main blocks:\n",
        "* Encoder reads words character by character and outputs code vector (usually a function of last RNN state)\n",
        "* Decoder takes that code vector and produces translations character by character\n",
        "\n",
        "Than it gets fed into a model that follows this simple interface:\n",
        "* __`model(inp, out, **flags) -> logp`__ - takes symbolic int32 matrices of hebrew words and their english translations. Computes the log-probabilities of all possible english characters given english prefices and hebrew word.\n",
        "* __`model.translate(inp, **flags) -> out, logp`__ - takes symbolic int32 matrix of hebrew words, produces output tokens sampled from the model and output log-probabilities for all possible tokens at each tick.\n",
        "  * if given flag __`greedy=True`__, takes most likely next token at each iteration. Otherwise samples with next token probabilities predicted by model.\n",
        "\n",
        "That's all! It's as hard as it gets. With those two methods alone you can implement all kinds of prediction and training."
      ]
    },
    {
      "cell_type": "code",
      "execution_count": null,
      "metadata": {
        "id": "EB2xI1fLyz1F"
      },
      "outputs": [],
      "source": [
        "import torch\n",
        "import torch.nn as nn\n",
        "import torch.nn.functional as F"
      ]
    },
    {
      "cell_type": "code",
      "execution_count": null,
      "metadata": {
        "id": "ciffJlJ9yz1I"
      },
      "outputs": [],
      "source": [
        "from basic_model_torch import BasicTranslationModel\n",
        "model = BasicTranslationModel(inp_voc, out_voc,\n",
        "                              emb_size=64, hid_size=256)"
      ]
    },
    {
      "cell_type": "code",
      "execution_count": null,
      "metadata": {
        "id": "aYv63Kicyz1Q",
        "outputId": "6949de4b-1f2f-4662-ef7d-1cffb5eb8c08"
      },
      "outputs": [
        {
          "data": {
            "text/plain": [
              "BasicTranslationModel(\n",
              "  (emb_inp): Embedding(189, 64)\n",
              "  (emb_out): Embedding(283, 64)\n",
              "  (enc0): GRU(64, 256, batch_first=True)\n",
              "  (dec_start): Linear(in_features=256, out_features=256, bias=True)\n",
              "  (dec0): GRUCell(64, 256)\n",
              "  (logits): Linear(in_features=256, out_features=283, bias=True)\n",
              ")"
            ]
          },
          "execution_count": 19,
          "metadata": {},
          "output_type": "execute_result"
        }
      ],
      "source": [
        "device = torch.device('cuda:0') if torch.cuda.is_available() else torch.device('cpu')\n",
        "model.to(device)"
      ]
    },
    {
      "cell_type": "code",
      "execution_count": null,
      "metadata": {
        "id": "H8ijvPBRyz1R",
        "outputId": "db0e516c-e1db-4eb7-c707-e5bedda73826"
      },
      "outputs": [
        {
          "name": "stdout",
          "output_type": "stream",
          "text": [
            "Sample translations:\n",
            " tensor([[  0, 242, 118, 234,  90, 273, 238, 269,  44, 210, 185, 156, 121, 159,\n",
            "          79, 208, 242, 217, 173, 123, 157, 217, 251, 191, 239,  95, 262,  47,\n",
            "          15, 248, 234, 167, 125, 106, 264,  36,  14, 249, 108,  25,   3,  16,\n",
            "         111, 128, 126,  79,  14, 162,  85, 185,  77, 259,  63,  50, 178, 269,\n",
            "          79, 181, 154,  53,  68, 202, 234,  39, 173, 164,   2,  26, 122,  30,\n",
            "          63, 191,  68,  30,  15, 222, 179, 211, 282,  43,  76, 180,  42, 235,\n",
            "          16, 131,  97, 222,  73, 155, 208, 116, 160,   6,  17, 270,  71,  61,\n",
            "         205,   1, 240,  53, 273,  85,  32,  59,  46, 230,  61, 187, 210,  55,\n",
            "           1, 112],\n",
            "        [  0,  15,  46, 169, 125, 225, 199, 157, 243, 253, 126,  74, 203,  76,\n",
            "         241, 156,  27, 188,  76, 114,  87,  78,  50, 230, 139, 133,  95, 134,\n",
            "         177,  29,  61, 121,  79,  31, 152,  75, 194,  12,  58, 196,   0, 241,\n",
            "         105, 105,  68, 163,  73,  32, 202, 169, 176,  64, 140,  48, 198, 221,\n",
            "           8, 238,  95,  91, 135, 257, 262, 248, 152, 187,  43, 222, 273, 133,\n",
            "         193, 176, 104, 140, 204, 221, 160,  78, 215, 261, 195,  18,  94, 278,\n",
            "         199,  61,  74,  81,  32, 169,  64, 197, 220,  35,   1, 122, 266,  64,\n",
            "         214, 264, 172,  31, 151, 204, 201,  47, 186,   9,  42, 279, 261,  30,\n",
            "         120,  79],\n",
            "        [  0, 179,  55, 227, 232, 160, 150, 194,  35,  72, 250,   4,  92, 202,\n",
            "          36, 187,   2, 260, 168,  22, 143, 236, 154, 144, 135,  96, 219, 139,\n",
            "          55, 213, 226, 149, 157,  15, 215,  29,  69, 212,  25,  70, 159,  33,\n",
            "         225, 224,  17, 141,  64, 125, 265, 210, 244,  12,  37,  63,  14,  26,\n",
            "         242,  94, 223, 177, 264, 176, 159,  23, 227, 269, 177,  40, 261, 130,\n",
            "         186, 280, 243, 186,  37, 263,  26,  49,  95,  74,  70, 282,  48, 251,\n",
            "          60, 193,   8,  62, 208, 132, 166, 254,  74, 236,  77, 183, 196, 231,\n",
            "         203,  38,  40, 115, 171, 162, 214, 245, 265,  74, 170, 280,   9, 186,\n",
            "         187,   1]], device='cuda:0')\n",
            "Log-probabilities at each step:\n",
            " tensor([[[  0.0000, -69.0776, -69.0776,  ..., -69.0776, -69.0776, -69.0776],\n",
            "         [ -5.8481,  -5.6162,  -5.7409,  ...,  -5.6070,  -5.6182,  -5.6371],\n",
            "         [ -5.8482,  -5.4504,  -5.6454,  ...,  -5.6855,  -5.6180,  -5.6876],\n",
            "         ...,\n",
            "         [ -5.5809,  -5.7012,  -5.7052,  ...,  -5.5191,  -5.5372,  -5.5758],\n",
            "         [ -5.5876,  -5.5975,  -5.6889,  ...,  -5.6240,  -5.5880,  -5.7418],\n",
            "         [ -5.7200,  -5.6119,  -5.5147,  ...,  -5.6472,  -5.5706,  -5.7165]],\n",
            "\n",
            "        [[  0.0000, -69.0776, -69.0776,  ..., -69.0776, -69.0776, -69.0776],\n",
            "         [ -5.7871,  -5.6654,  -5.8206,  ...,  -5.4680,  -5.6429,  -5.6196],\n",
            "         [ -5.7977,  -5.5203,  -5.8897,  ...,  -5.3761,  -5.6740,  -5.5921],\n",
            "         ...,\n",
            "         [ -5.7261,  -5.5582,  -5.6528,  ...,  -5.7036,  -5.5040,  -5.7099],\n",
            "         [ -5.7561,  -5.5846,  -5.7147,  ...,  -5.6546,  -5.3830,  -5.5855],\n",
            "         [ -5.7136,  -5.6654,  -5.7969,  ...,  -5.5844,  -5.5230,  -5.6970]],\n",
            "\n",
            "        [[  0.0000, -69.0776, -69.0776,  ..., -69.0776, -69.0776, -69.0776],\n",
            "         [ -5.8156,  -5.6111,  -5.7532,  ...,  -5.5827,  -5.6154,  -5.6308],\n",
            "         [ -5.7683,  -5.6647,  -5.7121,  ...,  -5.6625,  -5.4572,  -5.5258],\n",
            "         ...,\n",
            "         [ -5.5717,  -5.5583,  -5.7510,  ...,  -5.4881,  -5.5218,  -5.6458],\n",
            "         [ -5.6230,  -5.4600,  -5.7547,  ...,  -5.5696,  -5.3542,  -5.4985],\n",
            "         [ -5.6270,  -5.5208,  -5.8408,  ...,  -5.5142,  -5.4184,  -5.6284]]],\n",
            "       device='cuda:0', grad_fn=<LogSoftmaxBackward>)\n"
          ]
        }
      ],
      "source": [
        "# Play around with symbolic_translate and symbolic_score\n",
        "inp = torch.tensor(np.random.randint(0, 10, [3, 5]), dtype=torch.int64).to(device)\n",
        "out = torch.tensor(np.random.randint(0, 10, [3, 5]), dtype=torch.int64).to(device)\n",
        "\n",
        "# translate inp (with untrained model)\n",
        "sampled_out, logp = model.translate(inp, greedy=False)\n",
        "\n",
        "print(\"Sample translations:\\n\", sampled_out)\n",
        "print(\"Log-probabilities at each step:\\n\", logp)"
      ]
    },
    {
      "cell_type": "code",
      "execution_count": null,
      "metadata": {
        "id": "hTs7OKHtyz1T",
        "outputId": "d0304193-2564-447a-fb2e-728087e2cd27"
      },
      "outputs": [
        {
          "name": "stdout",
          "output_type": "stream",
          "text": [
            "Symbolic_score output:\n",
            " tensor([[[  0.0000, -69.0776, -69.0776,  ..., -69.0776, -69.0776, -69.0776],\n",
            "         [ -5.6097,  -5.6347,  -5.5644,  ...,  -5.6052,  -5.5671,  -5.7946],\n",
            "         [ -5.5899,  -5.5333,  -5.6292,  ...,  -5.5238,  -5.5643,  -5.6966],\n",
            "         [ -5.6047,  -5.4703,  -5.6637,  ...,  -5.4874,  -5.5497,  -5.6168],\n",
            "         [ -5.6811,  -5.4911,  -5.6394,  ...,  -5.5052,  -5.6815,  -5.8629]],\n",
            "\n",
            "        [[  0.0000, -69.0776, -69.0776,  ..., -69.0776, -69.0776, -69.0776],\n",
            "         [ -5.5871,  -5.5239,  -5.7115,  ...,  -5.4026,  -5.5865,  -5.6198],\n",
            "         [ -5.7106,  -5.5326,  -5.5193,  ...,  -5.5136,  -5.5647,  -5.6464],\n",
            "         [ -5.6878,  -5.5272,  -5.5856,  ...,  -5.4899,  -5.7005,  -5.8938],\n",
            "         [ -5.7421,  -5.5514,  -5.4805,  ...,  -5.5549,  -5.6048,  -5.8182]],\n",
            "\n",
            "        [[  0.0000, -69.0776, -69.0776,  ..., -69.0776, -69.0776, -69.0776],\n",
            "         [ -5.6951,  -5.5558,  -5.6446,  ...,  -5.5710,  -5.7424,  -5.9265],\n",
            "         [ -5.6458,  -5.7037,  -5.6066,  ...,  -5.6527,  -5.6454,  -5.7980],\n",
            "         [ -5.7162,  -5.6310,  -5.4754,  ...,  -5.6433,  -5.5834,  -5.7525],\n",
            "         [ -5.6824,  -5.5961,  -5.5671,  ...,  -5.5619,  -5.7070,  -5.9625]]],\n",
            "       device='cuda:0', grad_fn=<LogSoftmaxBackward>)\n",
            "Log-probabilities of output tokens:\n",
            " tensor([[[-69.0776],\n",
            "         [ -5.8096],\n",
            "         [ -5.6198],\n",
            "         [ -5.5483],\n",
            "         [ -5.8003]],\n",
            "\n",
            "        [[-69.0776],\n",
            "         [ -5.5239],\n",
            "         [ -5.5254],\n",
            "         [ -5.5272],\n",
            "         [ -5.7421]],\n",
            "\n",
            "        [[-69.0776],\n",
            "         [ -5.6391],\n",
            "         [ -5.7037],\n",
            "         [ -5.5409],\n",
            "         [ -5.5671]]], device='cuda:0', grad_fn=<GatherBackward>)\n"
          ]
        }
      ],
      "source": [
        "# score logp(out | inp) with untrained input\n",
        "logp = model(inp, out)\n",
        "print(\"Symbolic_score output:\\n\", logp)\n",
        "\n",
        "print(\"Log-probabilities of output tokens:\\n\",\n",
        "      torch.gather(logp, dim=2, index=out[:, :, None]))"
      ]
    },
    {
      "cell_type": "code",
      "execution_count": null,
      "metadata": {
        "id": "ic70Uj_-yz1U"
      },
      "outputs": [],
      "source": [
        "def translate(lines, max_len=MAX_OUTPUT_LENGTH, device=device):\n",
        "    \"\"\"\n",
        "    You are given a list of input lines. \n",
        "    Make your neural network translate them.\n",
        "    :return: a list of output lines\n",
        "    \"\"\"\n",
        "    # Convert lines to a matrix of indices\n",
        "    lines_ix = inp_voc.to_matrix(lines)\n",
        "    lines_ix = torch.tensor(lines_ix, dtype=torch.int64).to(device)\n",
        "\n",
        "    # Compute translations in form of indices\n",
        "    trans_ix, _ = model.translate(lines_ix, greedy=True, max_len=max_len) # <YOUR CODE >\n",
        "\n",
        "    # Convert translations back into strings\n",
        "    return out_voc.to_lines(trans_ix.cpu().data.numpy())"
      ]
    },
    {
      "cell_type": "code",
      "execution_count": null,
      "metadata": {
        "id": "OadnNNtDyz1W",
        "outputId": "550784a5-b8c4-4bec-d072-79bdfc7a7d2c"
      },
      "outputs": [
        {
          "name": "stdout",
          "output_type": "stream",
          "text": [
            "Sample inputs: ['אנרכיזם' 'אוטיזם קלאסי' 'אלבדו']\n",
            "Dummy translations: ['иxnọß…熊u′9ūůıļ̇ղ熊°ğ', 'иxnọß…熊u′9ūůıļ̇ղ熊°ğ', 'חеőиxnọß…熊u′9ūůıļ̇ղ']\n",
            "Tests passed!\n"
          ]
        }
      ],
      "source": [
        "print(\"Sample inputs:\", all_words[:3])\n",
        "print(\"Dummy translations:\", translate(all_words[:3]))\n",
        "trans = translate(all_words[:3])\n",
        "\n",
        "assert translate(all_words[:3]) == translate(\n",
        "    all_words[:3]), \"make sure translation is deterministic (use greedy=True and disable any noise layers)\"\n",
        "assert type(translate(all_words[:3])) is list and (type(translate(all_words[:1])[0]) is str or type(\n",
        "    translate(all_words[:1])[0]) is unicode), \"translate(lines) must return a sequence of strings!\"\n",
        "# note: if translation freezes, make sure you used max_len parameter\n",
        "print(\"Tests passed!\")"
      ]
    },
    {
      "cell_type": "markdown",
      "metadata": {
        "id": "VQYZIyMyyz1Y"
      },
      "source": [
        "### Scoring function\n",
        "\n",
        "LogLikelihood is a poor estimator of model performance.\n",
        "* If we predict zero probability once, it shouldn't ruin entire model.\n",
        "* It is enough to learn just one translation if there are several correct ones.\n",
        "* What matters is how many mistakes model's gonna make when it translates!\n",
        "\n",
        "Therefore, we will use minimal Levenshtein distance. It measures how many characters do we need to add/remove/replace from model translation to make it perfect. Alternatively, one could use character-level BLEU/RougeL or other similar metrics.\n",
        "\n",
        "The catch here is that Levenshtein distance is not differentiable: it isn't even continuous. We can't train our neural network to maximize it by gradient descent."
      ]
    },
    {
      "cell_type": "code",
      "execution_count": null,
      "metadata": {
        "id": "CsoTLXb0yz1Z"
      },
      "outputs": [],
      "source": [
        "import editdistance  # !pip install editdistance\n",
        "\n",
        "\n",
        "def get_distance(word, trans):\n",
        "    \"\"\"\n",
        "    A function that takes word and predicted translation\n",
        "    and evaluates (Levenshtein's) edit distance to closest correct translation\n",
        "    \"\"\"\n",
        "    references = word_to_translation[word]\n",
        "    assert len(references) != 0, \"wrong/unknown word\"\n",
        "    return min(editdistance.eval(trans, ref) for ref in references)\n",
        "\n",
        "\n",
        "def score(words, bsize=100):\n",
        "    \"\"\"a function that computes levenshtein distance for bsize random samples\"\"\"\n",
        "    assert isinstance(words, np.ndarray)\n",
        "\n",
        "    batch_words = np.random.choice(words, size=bsize, replace=False)\n",
        "    batch_trans = translate(batch_words)\n",
        "\n",
        "    distances = list(map(get_distance, batch_words, batch_trans))\n",
        "\n",
        "    return np.array(distances, dtype='float32')"
      ]
    },
    {
      "cell_type": "code",
      "execution_count": null,
      "metadata": {
        "id": "xpKrH-kEyz1Z",
        "outputId": "9238554b-a171-440a-fa37-faab3e332bfe"
      },
      "outputs": [
        {
          "data": {
            "text/plain": [
              "[18.8, 18.7, 18.8, 18.9, 18.7]"
            ]
          },
          "execution_count": 26,
          "metadata": {},
          "output_type": "execute_result"
        }
      ],
      "source": [
        "# should be around 5-50 and decrease rapidly after training :)\n",
        "[score(test_words, 10).mean() for _ in range(5)]"
      ]
    },
    {
      "cell_type": "markdown",
      "metadata": {
        "id": "6ut7U1Rjyz1a"
      },
      "source": [
        "### Supervised pre-training\n",
        "\n",
        "Here we define a function that trains our model through maximizing log-likelihood a.k.a. minimizing crossentropy."
      ]
    },
    {
      "cell_type": "code",
      "execution_count": null,
      "metadata": {
        "id": "6MBpue7Wyz1d"
      },
      "outputs": [],
      "source": [
        "import random\n",
        "\n",
        "\n",
        "def sample_batch(words, word_to_translation, batch_size):\n",
        "    \"\"\"\n",
        "    sample random batch of words and random correct translation for each word\n",
        "    example usage:\n",
        "    batch_x,batch_y = sample_batch(train_words, word_to_translations,10)\n",
        "    \"\"\"\n",
        "    # choose words\n",
        "    batch_words = np.random.choice(words, size=batch_size)\n",
        "\n",
        "    # choose translations\n",
        "    batch_trans_candidates = list(map(word_to_translation.get, batch_words))\n",
        "    batch_trans = list(map(random.choice, batch_trans_candidates))\n",
        "    return batch_words, batch_trans"
      ]
    },
    {
      "cell_type": "code",
      "execution_count": null,
      "metadata": {
        "id": "70yOaTA7yz1e",
        "outputId": "70a037c4-5f98-43ce-a309-78d3bcf5fb93"
      },
      "outputs": [
        {
          "name": "stdout",
          "output_type": "stream",
          "text": [
            "Source:\n",
            "['זואונוסיס' 'קוילה-סוריה' 'הרברט וימר']\n",
            "Target:\n",
            "['zoonosis', 'coele-syria', 'herbert wimmer']\n"
          ]
        }
      ],
      "source": [
        "bx, by = sample_batch(train_words, word_to_translation, batch_size=3)\n",
        "print(\"Source:\")\n",
        "print(bx)\n",
        "print(\"Target:\")\n",
        "print(by)"
      ]
    },
    {
      "cell_type": "code",
      "execution_count": null,
      "metadata": {
        "id": "o80ruMh3yz1f"
      },
      "outputs": [],
      "source": [
        "from basic_model_torch import infer_length, infer_mask, to_one_hot\n",
        "\n",
        "\n",
        "def compute_loss_on_batch(input_sequence, reference_answers, device=device):\n",
        "    \"\"\" Compute crossentropy loss given a batch of sources and translations \"\"\"\n",
        "    input_sequence = torch.tensor(inp_voc.to_matrix(input_sequence), dtype=torch.int64).to(device)\n",
        "    reference_answers = torch.tensor(out_voc.to_matrix(reference_answers), dtype=torch.int64).to(device)\n",
        "\n",
        "    # Compute log-probabilities of all possible tokens at each step. Use model interface.\n",
        "    \n",
        "    # [batch_size, seq_length, n_classes (dict size)]\n",
        "    logprobs_seq = model(input_sequence, reference_answers) # YOUR CODE\n",
        "\n",
        "    \n",
        "    \n",
        "    \n",
        "    # compute elementwise crossentropy as negative log-probabilities of reference_answers.\n",
        "    crossentropy = -torch.sum(to_one_hot(reference_answers, len(out_voc)) * logprobs_seq, dim=-1)\n",
        "    # YOUR CODE\n",
        "    assert crossentropy.dim(\n",
        "    ) == 2, \"please return elementwise crossentropy, don't compute mean just yet\"\n",
        "\n",
        "    # [batch_size, seq_length]\n",
        "    # average with mask\n",
        "\n",
        "    mask = infer_mask(reference_answers, out_voc.eos_ix)\n",
        "    loss = torch.sum(crossentropy * mask) / torch.sum(mask)\n",
        "\n",
        "    return loss"
      ]
    },
    {
      "cell_type": "code",
      "execution_count": null,
      "metadata": {
        "id": "n3NJlPrfyz1g",
        "outputId": "edd78c06-deb9-4395-e39a-08cfb53e5cf8"
      },
      "outputs": [
        {
          "name": "stdout",
          "output_type": "stream",
          "text": [
            "loss =  tensor(5.1634, device='cuda:0', grad_fn=<DivBackward0>)\n",
            "Seems fine!\n"
          ]
        }
      ],
      "source": [
        "# test it\n",
        "loss = compute_loss_on_batch(*sample_batch(train_words, word_to_translation, 3))\n",
        "print('loss = ', loss)\n",
        "\n",
        "assert loss.item() > 0.0\n",
        "loss.backward()\n",
        "for w in model.parameters():\n",
        "    assert w.grad is not None and torch.max(torch.abs(w.grad)).item() != 0, \\\n",
        "        \"Loss is not differentiable w.r.t. a weight with shape %s. Check comput_loss_on_batch.\" % (\n",
        "            w.size(),)\n",
        "print('Seems fine!')"
      ]
    },
    {
      "cell_type": "markdown",
      "metadata": {
        "id": "n2hhCt52yz1h"
      },
      "source": [
        "##### Actually train the model\n",
        "\n",
        "Minibatches and stuff..."
      ]
    },
    {
      "cell_type": "code",
      "execution_count": null,
      "metadata": {
        "id": "rPXP3R6-yz1i"
      },
      "outputs": [],
      "source": [
        "from IPython.display import clear_output\n",
        "from tqdm import tqdm, trange  # or use tqdm_notebook,tnrange\n",
        "\n",
        "loss_history = []\n",
        "editdist_history = []\n",
        "entropy_history = []\n",
        "opt = torch.optim.Adam(model.parameters())"
      ]
    },
    {
      "cell_type": "code",
      "execution_count": null,
      "metadata": {
        "id": "3Xc84er2yz1i",
        "outputId": "bf68a269-69de-4f6f-f0f1-14c78452f447"
      },
      "outputs": [
        {
          "name": "stdout",
          "output_type": "stream",
          "text": [
            "llh=1.287, mean score=7.233\n"
          ]
        },
        {
          "data": {
            "image/png": "[encoded data removed]",
            "text/plain": [
              "<Figure size 864x288 with 3 Axes>"
            ]
          },
          "metadata": {
            "needs_background": "light"
          },
          "output_type": "display_data"
        },
        {
          "name": "stderr",
          "output_type": "stream",
          "text": [
            "100%|██████████| 5000/5000 [02:00<00:00, 41.57it/s]\n"
          ]
        }
      ],
      "source": [
        "\n",
        "\n",
        "for i in trange(5000):\n",
        "    loss = compute_loss_on_batch(*sample_batch(train_words, word_to_translation, 32))\n",
        "\n",
        "    # train with backprop\n",
        "    loss.backward()\n",
        "    opt.step()\n",
        "    opt.zero_grad()\n",
        "\n",
        "    loss_history.append(loss.item())\n",
        "\n",
        "    if (i+1) % REPORT_FREQ == 0:\n",
        "        clear_output(True)\n",
        "        current_scores = score(test_words)\n",
        "        editdist_history.append(current_scores.mean())\n",
        "        print(\"llh=%.3f, mean score=%.3f\" %\n",
        "              (np.mean(loss_history[-10:]), np.mean(editdist_history[-10:])))\n",
        "        plt.figure(figsize=(12, 4))\n",
        "        plt.subplot(131)\n",
        "        plt.title('train loss / traning time')\n",
        "        plt.plot(loss_history)\n",
        "        plt.grid()\n",
        "        plt.subplot(132)\n",
        "        plt.title('val score distribution')\n",
        "        plt.hist(current_scores, bins=20)\n",
        "        plt.subplot(133)\n",
        "        plt.title('val score / traning time (lower is better)')\n",
        "        plt.plot(editdist_history)\n",
        "        plt.grid()\n",
        "        plt.show()"
      ]
    },
    {
      "cell_type": "markdown",
      "metadata": {
        "id": "kED5mbzFyz1k"
      },
      "source": [
        "__How to interpret the plots:__\n",
        "\n",
        "* __Train loss__ - that's your model's crossentropy over minibatches. It should go down steadily. Most importantly, it shouldn't be NaN :)\n",
        "* __Val score distribution__ - distribution of translation edit distance (score) within batch. It should move to the left over time.\n",
        "* __Val score / training time__ - it's your current mean edit distance. This plot is much whimsier than loss, but make sure it goes below 8 by 2500 steps. \n",
        "\n",
        "If it doesn't, first try to re-create both model and opt. You may have changed it's weight too much while debugging. If that doesn't help, it's debugging time."
      ]
    },
    {
      "cell_type": "code",
      "execution_count": null,
      "metadata": {
        "id": "wpEu7rJhyz1k",
        "outputId": "5af32ac7-dfae-49f8-ee6d-c9673d37b7ac"
      },
      "outputs": [
        {
          "name": "stdout",
          "output_type": "stream",
          "text": [
            "כל אנשי סמיילי -> san massili massia\n",
            "קטגוריה:ערוץ 2 -> 20 conson\n",
            "עבודה מהבית -> avidae canter\n",
            "פראליה -> paralia\n",
            "קפלר 42 -> capler tack\n",
            "קטגוריה:מתאסלמים -> bathessian people\n",
            "בושמי -> boshimi\n",
            "לאונרדו -> leonardo\n",
            "שאמה -> shama\n",
            "עכברה -> abracher\n"
          ]
        }
      ],
      "source": [
        "for word in train_words[:10]:\n",
        "    print(\"%s -> %s\" % (word, translate([word])[0]))"
      ]
    },
    {
      "cell_type": "code",
      "execution_count": null,
      "metadata": {
        "id": "XLvhjqGyyz1l",
        "outputId": "d1afe4db-8e48-44b1-a1b5-95dd45a085eb"
      },
      "outputs": [
        {
          "name": "stderr",
          "output_type": "stream",
          "text": [
            "100%|██████████| 407/407 [00:02<00:00, 162.56it/s]"
          ]
        },
        {
          "name": "stdout",
          "output_type": "stream",
          "text": [
            "Supervised test score: 7.011604672609899\n"
          ]
        },
        {
          "name": "stderr",
          "output_type": "stream",
          "text": [
            "\n"
          ]
        }
      ],
      "source": [
        "test_scores = []\n",
        "for start_i in trange(0, len(test_words), 32):\n",
        "    batch_words = test_words[start_i:start_i+32]\n",
        "    batch_trans = translate(batch_words)\n",
        "    distances = list(map(get_distance, batch_words, batch_trans))\n",
        "    test_scores.extend(distances)\n",
        "\n",
        "print(\"Supervised test score:\", np.mean(test_scores))"
      ]
    },
    {
      "cell_type": "markdown",
      "metadata": {
        "id": "TsbKUHzoyz1m"
      },
      "source": [
        "### Self-critical policy gradient\n",
        "\n",
        "In this section you'll implement algorithm called self-critical sequence training (here's an [article](https://arxiv.org/abs/1612.00563)).\n",
        "\n",
        "The algorithm is a vanilla policy gradient with a special baseline. \n",
        "\n",
        "$$ \\nabla J = E_{x \\sim p(s)} E_{y \\sim \\pi(y|x)} \\nabla log \\pi(y|x) \\cdot (R(x,y) - b(x)) $$\n",
        "\n",
        "Here reward R(x,y) is a __negative levenshtein distance__ (since we minimize it). The baseline __b(x)__ represents how well model fares on word __x__.\n",
        "\n",
        "In practice, this means that we compute baseline as a score of greedy translation, $b(x) = R(x,y_{greedy}(x)) $.\n",
        "\n",
        "![img](https://github.com/yandexdataschool/Practical_RL/raw/master/yet_another_week/_resource/scheme.png)\n",
        "\n",
        "\n",
        "Luckily, we already obtained the required outputs: `model.greedy_translations, model.greedy_mask` and we only need to compute levenshtein using `compute_levenshtein` function.\n"
      ]
    },
    {
      "cell_type": "code",
      "execution_count": null,
      "metadata": {
        "id": "Du5lvfRkyz1n"
      },
      "outputs": [],
      "source": [
        "def compute_reward(input_sequence, translations):\n",
        "    \"\"\" computes sample-wise reward given token ids for inputs and translations \"\"\"\n",
        "    distances = list(map(get_distance,\n",
        "                         inp_voc.to_lines(input_sequence.data.numpy()),\n",
        "                         out_voc.to_lines(translations.data.numpy())))\n",
        "    # use negative levenshtein distance so that larger reward means better policy\n",
        "    return - torch.tensor(distances, dtype=torch.int64)"
      ]
    },
    {
      "cell_type": "code",
      "execution_count": null,
      "metadata": {
        "id": "rsP4qUFsyz1n"
      },
      "outputs": [],
      "source": [
        "def scst_objective_on_batch(input_sequence, max_len=MAX_OUTPUT_LENGTH, device=device):\n",
        "    \"\"\" Compute pseudo-loss for policy gradient given a batch of sources \"\"\"\n",
        "    input_sequence = torch.tensor(inp_voc.to_matrix(input_sequence), dtype=torch.int64).to(device)\n",
        "\n",
        "    # use model to __sample__ symbolic translations given input_sequence\n",
        "    sample_translations, sample_logp = model.translate(input_sequence, greedy=False, max_len=max_len) # YOUR CODE\n",
        "    # use model to __greedy__ symbolic translations given input_sequence\n",
        "    greedy_translations, greedy_logp = model.translate(input_sequence, greedy=True, max_len=max_len) # YOUR CODE\n",
        "\n",
        "    # compute rewards and advantage\n",
        "    # be careful with the device, rewards require casting to numpy, so send everything to cpu\n",
        "    rewards = compute_reward(input_sequence.cpu(), sample_translations.cpu())\n",
        "    baseline = compute_reward(input_sequence.cpu(), greedy_translations.cpu()) # <compute __negative__ levenshtein for greedy mode >\n",
        "\n",
        "    # compute advantage using rewards and baseline\n",
        "    # be careful with the device, advantage is used to compute gradients, so send it to device\n",
        "    advantage = (rewards - baseline).float().to(device)  # YOUR CODE\n",
        "\n",
        "    # compute log_pi(a_t|s_t), shape = [batch, seq_length]\n",
        "    logp_sample = torch.sum(to_one_hot(sample_translations, n_dims=len(out_voc)) * sample_logp, dim=-1)\n",
        "        # YOUR CODE\n",
        "    \n",
        "    # ^-- hint: look at how crossentropy is implemented in supervised learning loss above\n",
        "    # mind the sign - this one should not be multiplied by -1 :)\n",
        "\n",
        "    # policy gradient pseudo-loss. Gradient of J is exactly policy gradient.\n",
        "    J = logp_sample * advantage[:, None]\n",
        "\n",
        "    assert J.dim() == 2, \"please return elementwise objective, don't compute mean just yet\"\n",
        "\n",
        "    # average with mask\n",
        "    mask = infer_mask(sample_translations, out_voc.eos_ix)\n",
        "    loss = - torch.sum(J * mask) / torch.sum(mask)\n",
        "\n",
        "    # regularize with negative entropy. Don't forget the sign!\n",
        "    # note: for entropy you need probabilities for all tokens (sample_logp), not just logp_sample\n",
        "    entropy = -torch.sum(torch.exp(sample_logp) * sample_logp, dim=-1)\n",
        "    # <compute entropy matrix of shape[batch, seq_length], H = -sum(p*log_p), don't forget the sign!>\n",
        "    # hint: you can get sample probabilities from sample_logp using math :)\n",
        "\n",
        "    assert entropy.dim(\n",
        "    ) == 2, \"please make sure elementwise entropy is of shape [batch,time]\"\n",
        "\n",
        "    reg = - 0.01 * torch.sum(entropy * mask) / torch.sum(mask)\n",
        "\n",
        "    return loss + reg, torch.sum(entropy * mask) / torch.sum(mask)"
      ]
    },
    {
      "cell_type": "markdown",
      "metadata": {
        "id": "eOERZ9oByz1o"
      },
      "source": [
        "### Policy gradient training\n"
      ]
    },
    {
      "cell_type": "code",
      "execution_count": null,
      "metadata": {
        "id": "Ug1Rh1HLyz1p"
      },
      "outputs": [],
      "source": [
        "entropy_history = [np.nan] * len(loss_history)\n",
        "opt = torch.optim.Adam(model.parameters(), lr=1e-5)"
      ]
    },
    {
      "cell_type": "code",
      "execution_count": null,
      "metadata": {
        "id": "Xr3WBrydyz1p"
      },
      "outputs": [],
      "source": [
        "debug_list = []"
      ]
    },
    {
      "cell_type": "code",
      "execution_count": null,
      "metadata": {
        "id": "rI9cJtE-yz1q",
        "outputId": "7a7cbf4e-5b8e-4b60-aa13-3ff913a78bcb"
      },
      "outputs": [
        {
          "data": {
            "image/png": "[encoded data removed]",
            "text/plain": [
              "<Figure size 864x288 with 3 Axes>"
            ]
          },
          "metadata": {
            "needs_background": "light"
          },
          "output_type": "display_data"
        },
        {
          "name": "stderr",
          "output_type": "stream",
          "text": [
            "\n",
            "  1%|          | 901/100000 [00:30<1:29:20, 18.49it/s]\u001b[A\n",
            "  1%|          | 905/100000 [00:31<1:17:51, 21.21it/s]\u001b[A"
          ]
        },
        {
          "name": "stdout",
          "output_type": "stream",
          "text": [
            "J=-0.826, mean score=6.400\n"
          ]
        },
        {
          "name": "stderr",
          "output_type": "stream",
          "text": [
            "\n",
            "  1%|          | 909/100000 [00:31<1:10:21, 23.47it/s]\u001b[A\n",
            "  1%|          | 913/100000 [00:31<1:05:10, 25.34it/s]\u001b[A"
          ]
        },
        {
          "ename": "KeyboardInterrupt",
          "evalue": "",
          "output_type": "error",
          "traceback": [
            "\u001b[0;31m---------------------------------------------------------------------------\u001b[0m",
            "\u001b[0;31mKeyboardInterrupt\u001b[0m                         Traceback (most recent call last)",
            "\u001b[0;32m<ipython-input-46-5e87248dc015>\u001b[0m in \u001b[0;36m<module>\u001b[0;34m\u001b[0m\n\u001b[1;32m      1\u001b[0m \u001b[0;32mfor\u001b[0m \u001b[0mi\u001b[0m \u001b[0;32min\u001b[0m \u001b[0mtrange\u001b[0m\u001b[0;34m(\u001b[0m\u001b[0;36m100000\u001b[0m\u001b[0;34m)\u001b[0m\u001b[0;34m:\u001b[0m\u001b[0;34m\u001b[0m\u001b[0;34m\u001b[0m\u001b[0m\n\u001b[0;32m----> 2\u001b[0;31m     loss, ent = scst_objective_on_batch(\n\u001b[0m\u001b[1;32m      3\u001b[0m         sample_batch(train_words, word_to_translation, 32)[0])  # [0] = only source sentence\n\u001b[1;32m      4\u001b[0m \u001b[0;34m\u001b[0m\u001b[0m\n\u001b[1;32m      5\u001b[0m     \u001b[0;31m# train with backprop\u001b[0m\u001b[0;34m\u001b[0m\u001b[0;34m\u001b[0m\u001b[0;34m\u001b[0m\u001b[0m\n",
            "\u001b[0;32m<ipython-input-42-0af6ae6fcd3a>\u001b[0m in \u001b[0;36mscst_objective_on_batch\u001b[0;34m(input_sequence, max_len, device)\u001b[0m\n\u001b[1;32m      6\u001b[0m     \u001b[0msample_translations\u001b[0m\u001b[0;34m,\u001b[0m \u001b[0msample_logp\u001b[0m \u001b[0;34m=\u001b[0m \u001b[0mmodel\u001b[0m\u001b[0;34m.\u001b[0m\u001b[0mtranslate\u001b[0m\u001b[0;34m(\u001b[0m\u001b[0minput_sequence\u001b[0m\u001b[0;34m,\u001b[0m \u001b[0mgreedy\u001b[0m\u001b[0;34m=\u001b[0m\u001b[0;32mFalse\u001b[0m\u001b[0;34m,\u001b[0m \u001b[0mmax_len\u001b[0m\u001b[0;34m=\u001b[0m\u001b[0mmax_len\u001b[0m\u001b[0;34m)\u001b[0m \u001b[0;31m# YOUR CODE\u001b[0m\u001b[0;34m\u001b[0m\u001b[0;34m\u001b[0m\u001b[0m\n\u001b[1;32m      7\u001b[0m     \u001b[0;31m# use model to __greedy__ symbolic translations given input_sequence\u001b[0m\u001b[0;34m\u001b[0m\u001b[0;34m\u001b[0m\u001b[0;34m\u001b[0m\u001b[0m\n\u001b[0;32m----> 8\u001b[0;31m     \u001b[0mgreedy_translations\u001b[0m\u001b[0;34m,\u001b[0m \u001b[0mgreedy_logp\u001b[0m \u001b[0;34m=\u001b[0m \u001b[0mmodel\u001b[0m\u001b[0;34m.\u001b[0m\u001b[0mtranslate\u001b[0m\u001b[0;34m(\u001b[0m\u001b[0minput_sequence\u001b[0m\u001b[0;34m,\u001b[0m \u001b[0mgreedy\u001b[0m\u001b[0;34m=\u001b[0m\u001b[0;32mTrue\u001b[0m\u001b[0;34m,\u001b[0m \u001b[0mmax_len\u001b[0m\u001b[0;34m=\u001b[0m\u001b[0mmax_len\u001b[0m\u001b[0;34m)\u001b[0m \u001b[0;31m# YOUR CODE\u001b[0m\u001b[0;34m\u001b[0m\u001b[0;34m\u001b[0m\u001b[0m\n\u001b[0m\u001b[1;32m      9\u001b[0m \u001b[0;34m\u001b[0m\u001b[0m\n\u001b[1;32m     10\u001b[0m     \u001b[0;31m# compute rewards and advantage\u001b[0m\u001b[0;34m\u001b[0m\u001b[0;34m\u001b[0m\u001b[0;34m\u001b[0m\u001b[0m\n",
            "\u001b[0;32m~/Projects/ml_courses/_ml-mipt/ml-mipt_adv/week1_11_RL_outside_games/basic_model_torch.py\u001b[0m in \u001b[0;36mtranslate\u001b[0;34m(self, inp, greedy, max_len, eps, **flags)\u001b[0m\n\u001b[1;32m     97\u001b[0m         \u001b[0mhid_state\u001b[0m \u001b[0;34m=\u001b[0m \u001b[0mself\u001b[0m\u001b[0;34m.\u001b[0m\u001b[0mencode\u001b[0m\u001b[0;34m(\u001b[0m\u001b[0minp\u001b[0m\u001b[0;34m,\u001b[0m \u001b[0;34m**\u001b[0m\u001b[0mflags\u001b[0m\u001b[0;34m)\u001b[0m\u001b[0;34m\u001b[0m\u001b[0;34m\u001b[0m\u001b[0m\n\u001b[1;32m     98\u001b[0m         \u001b[0;32mwhile\u001b[0m \u001b[0;32mTrue\u001b[0m\u001b[0;34m:\u001b[0m\u001b[0;34m\u001b[0m\u001b[0;34m\u001b[0m\u001b[0m\n\u001b[0;32m---> 99\u001b[0;31m             \u001b[0mhid_state\u001b[0m\u001b[0;34m,\u001b[0m \u001b[0mlogits\u001b[0m \u001b[0;34m=\u001b[0m \u001b[0mself\u001b[0m\u001b[0;34m.\u001b[0m\u001b[0mdecode\u001b[0m\u001b[0;34m(\u001b[0m\u001b[0mhid_state\u001b[0m\u001b[0;34m,\u001b[0m \u001b[0mout_seq\u001b[0m\u001b[0;34m[\u001b[0m\u001b[0;34m-\u001b[0m\u001b[0;36m1\u001b[0m\u001b[0;34m]\u001b[0m\u001b[0;34m,\u001b[0m \u001b[0;34m**\u001b[0m\u001b[0mflags\u001b[0m\u001b[0;34m)\u001b[0m\u001b[0;34m\u001b[0m\u001b[0;34m\u001b[0m\u001b[0m\n\u001b[0m\u001b[1;32m    100\u001b[0m             \u001b[0;32mif\u001b[0m \u001b[0mgreedy\u001b[0m\u001b[0;34m:\u001b[0m\u001b[0;34m\u001b[0m\u001b[0;34m\u001b[0m\u001b[0m\n\u001b[1;32m    101\u001b[0m                 \u001b[0m_\u001b[0m\u001b[0;34m,\u001b[0m \u001b[0my_t\u001b[0m \u001b[0;34m=\u001b[0m \u001b[0mtorch\u001b[0m\u001b[0;34m.\u001b[0m\u001b[0mmax\u001b[0m\u001b[0;34m(\u001b[0m\u001b[0mlogits\u001b[0m\u001b[0;34m,\u001b[0m \u001b[0mdim\u001b[0m\u001b[0;34m=\u001b[0m\u001b[0;34m-\u001b[0m\u001b[0;36m1\u001b[0m\u001b[0;34m)\u001b[0m\u001b[0;34m\u001b[0m\u001b[0;34m\u001b[0m\u001b[0m\n",
            "\u001b[0;32m~/Projects/ml_courses/_ml-mipt/ml-mipt_adv/week1_11_RL_outside_games/basic_model_torch.py\u001b[0m in \u001b[0;36mdecode\u001b[0;34m(self, prev_state, prev_tokens, **flags)\u001b[0m\n\u001b[1;32m     49\u001b[0m         \u001b[0mprev_emb\u001b[0m \u001b[0;34m=\u001b[0m \u001b[0mself\u001b[0m\u001b[0;34m.\u001b[0m\u001b[0memb_out\u001b[0m\u001b[0;34m(\u001b[0m\u001b[0mprev_tokens\u001b[0m\u001b[0;34m)\u001b[0m\u001b[0;34m\u001b[0m\u001b[0;34m\u001b[0m\u001b[0m\n\u001b[1;32m     50\u001b[0m         \u001b[0mnew_dec_state\u001b[0m \u001b[0;34m=\u001b[0m \u001b[0mself\u001b[0m\u001b[0;34m.\u001b[0m\u001b[0mdec0\u001b[0m\u001b[0;34m(\u001b[0m\u001b[0mprev_emb\u001b[0m\u001b[0;34m,\u001b[0m \u001b[0mprev_dec\u001b[0m\u001b[0;34m)\u001b[0m\u001b[0;34m\u001b[0m\u001b[0;34m\u001b[0m\u001b[0m\n\u001b[0;32m---> 51\u001b[0;31m         \u001b[0moutput_logits\u001b[0m \u001b[0;34m=\u001b[0m \u001b[0mself\u001b[0m\u001b[0;34m.\u001b[0m\u001b[0mlogits\u001b[0m\u001b[0;34m(\u001b[0m\u001b[0mnew_dec_state\u001b[0m\u001b[0;34m)\u001b[0m\u001b[0;34m\u001b[0m\u001b[0;34m\u001b[0m\u001b[0m\n\u001b[0m\u001b[1;32m     52\u001b[0m \u001b[0;34m\u001b[0m\u001b[0m\n\u001b[1;32m     53\u001b[0m         \u001b[0;32mreturn\u001b[0m \u001b[0;34m[\u001b[0m\u001b[0mnew_dec_state\u001b[0m\u001b[0;34m]\u001b[0m\u001b[0;34m,\u001b[0m \u001b[0moutput_logits\u001b[0m\u001b[0;34m\u001b[0m\u001b[0;34m\u001b[0m\u001b[0m\n",
            "\u001b[0;32m~/miniconda3/envs/py3_research/lib/python3.8/site-packages/torch/nn/modules/module.py\u001b[0m in \u001b[0;36m_call_impl\u001b[0;34m(self, *input, **kwargs)\u001b[0m\n\u001b[1;32m    720\u001b[0m             \u001b[0mresult\u001b[0m \u001b[0;34m=\u001b[0m \u001b[0mself\u001b[0m\u001b[0;34m.\u001b[0m\u001b[0m_slow_forward\u001b[0m\u001b[0;34m(\u001b[0m\u001b[0;34m*\u001b[0m\u001b[0minput\u001b[0m\u001b[0;34m,\u001b[0m \u001b[0;34m**\u001b[0m\u001b[0mkwargs\u001b[0m\u001b[0;34m)\u001b[0m\u001b[0;34m\u001b[0m\u001b[0;34m\u001b[0m\u001b[0m\n\u001b[1;32m    721\u001b[0m         \u001b[0;32melse\u001b[0m\u001b[0;34m:\u001b[0m\u001b[0;34m\u001b[0m\u001b[0;34m\u001b[0m\u001b[0m\n\u001b[0;32m--> 722\u001b[0;31m             \u001b[0mresult\u001b[0m \u001b[0;34m=\u001b[0m \u001b[0mself\u001b[0m\u001b[0;34m.\u001b[0m\u001b[0mforward\u001b[0m\u001b[0;34m(\u001b[0m\u001b[0;34m*\u001b[0m\u001b[0minput\u001b[0m\u001b[0;34m,\u001b[0m \u001b[0;34m**\u001b[0m\u001b[0mkwargs\u001b[0m\u001b[0;34m)\u001b[0m\u001b[0;34m\u001b[0m\u001b[0;34m\u001b[0m\u001b[0m\n\u001b[0m\u001b[1;32m    723\u001b[0m         for hook in itertools.chain(\n\u001b[1;32m    724\u001b[0m                 \u001b[0m_global_forward_hooks\u001b[0m\u001b[0;34m.\u001b[0m\u001b[0mvalues\u001b[0m\u001b[0;34m(\u001b[0m\u001b[0;34m)\u001b[0m\u001b[0;34m,\u001b[0m\u001b[0;34m\u001b[0m\u001b[0;34m\u001b[0m\u001b[0m\n",
            "\u001b[0;32m~/miniconda3/envs/py3_research/lib/python3.8/site-packages/torch/nn/modules/linear.py\u001b[0m in \u001b[0;36mforward\u001b[0;34m(self, input)\u001b[0m\n\u001b[1;32m     89\u001b[0m \u001b[0;34m\u001b[0m\u001b[0m\n\u001b[1;32m     90\u001b[0m     \u001b[0;32mdef\u001b[0m \u001b[0mforward\u001b[0m\u001b[0;34m(\u001b[0m\u001b[0mself\u001b[0m\u001b[0;34m,\u001b[0m \u001b[0minput\u001b[0m\u001b[0;34m:\u001b[0m \u001b[0mTensor\u001b[0m\u001b[0;34m)\u001b[0m \u001b[0;34m->\u001b[0m \u001b[0mTensor\u001b[0m\u001b[0;34m:\u001b[0m\u001b[0;34m\u001b[0m\u001b[0;34m\u001b[0m\u001b[0m\n\u001b[0;32m---> 91\u001b[0;31m         \u001b[0;32mreturn\u001b[0m \u001b[0mF\u001b[0m\u001b[0;34m.\u001b[0m\u001b[0mlinear\u001b[0m\u001b[0;34m(\u001b[0m\u001b[0minput\u001b[0m\u001b[0;34m,\u001b[0m \u001b[0mself\u001b[0m\u001b[0;34m.\u001b[0m\u001b[0mweight\u001b[0m\u001b[0;34m,\u001b[0m \u001b[0mself\u001b[0m\u001b[0;34m.\u001b[0m\u001b[0mbias\u001b[0m\u001b[0;34m)\u001b[0m\u001b[0;34m\u001b[0m\u001b[0;34m\u001b[0m\u001b[0m\n\u001b[0m\u001b[1;32m     92\u001b[0m \u001b[0;34m\u001b[0m\u001b[0m\n\u001b[1;32m     93\u001b[0m     \u001b[0;32mdef\u001b[0m \u001b[0mextra_repr\u001b[0m\u001b[0;34m(\u001b[0m\u001b[0mself\u001b[0m\u001b[0;34m)\u001b[0m \u001b[0;34m->\u001b[0m \u001b[0mstr\u001b[0m\u001b[0;34m:\u001b[0m\u001b[0;34m\u001b[0m\u001b[0;34m\u001b[0m\u001b[0m\n",
            "\u001b[0;32m~/miniconda3/envs/py3_research/lib/python3.8/site-packages/torch/nn/functional.py\u001b[0m in \u001b[0;36mlinear\u001b[0;34m(input, weight, bias)\u001b[0m\n\u001b[1;32m   1672\u001b[0m     \u001b[0;32mif\u001b[0m \u001b[0minput\u001b[0m\u001b[0;34m.\u001b[0m\u001b[0mdim\u001b[0m\u001b[0;34m(\u001b[0m\u001b[0;34m)\u001b[0m \u001b[0;34m==\u001b[0m \u001b[0;36m2\u001b[0m \u001b[0;32mand\u001b[0m \u001b[0mbias\u001b[0m \u001b[0;32mis\u001b[0m \u001b[0;32mnot\u001b[0m \u001b[0;32mNone\u001b[0m\u001b[0;34m:\u001b[0m\u001b[0;34m\u001b[0m\u001b[0;34m\u001b[0m\u001b[0m\n\u001b[1;32m   1673\u001b[0m         \u001b[0;31m# fused op is marginally faster\u001b[0m\u001b[0;34m\u001b[0m\u001b[0;34m\u001b[0m\u001b[0;34m\u001b[0m\u001b[0m\n\u001b[0;32m-> 1674\u001b[0;31m         \u001b[0mret\u001b[0m \u001b[0;34m=\u001b[0m \u001b[0mtorch\u001b[0m\u001b[0;34m.\u001b[0m\u001b[0maddmm\u001b[0m\u001b[0;34m(\u001b[0m\u001b[0mbias\u001b[0m\u001b[0;34m,\u001b[0m \u001b[0minput\u001b[0m\u001b[0;34m,\u001b[0m \u001b[0mweight\u001b[0m\u001b[0;34m.\u001b[0m\u001b[0mt\u001b[0m\u001b[0;34m(\u001b[0m\u001b[0;34m)\u001b[0m\u001b[0;34m)\u001b[0m\u001b[0;34m\u001b[0m\u001b[0;34m\u001b[0m\u001b[0m\n\u001b[0m\u001b[1;32m   1675\u001b[0m     \u001b[0;32melse\u001b[0m\u001b[0;34m:\u001b[0m\u001b[0;34m\u001b[0m\u001b[0;34m\u001b[0m\u001b[0m\n\u001b[1;32m   1676\u001b[0m         \u001b[0moutput\u001b[0m \u001b[0;34m=\u001b[0m \u001b[0minput\u001b[0m\u001b[0;34m.\u001b[0m\u001b[0mmatmul\u001b[0m\u001b[0;34m(\u001b[0m\u001b[0mweight\u001b[0m\u001b[0;34m.\u001b[0m\u001b[0mt\u001b[0m\u001b[0;34m(\u001b[0m\u001b[0;34m)\u001b[0m\u001b[0;34m)\u001b[0m\u001b[0;34m\u001b[0m\u001b[0;34m\u001b[0m\u001b[0m\n",
            "\u001b[0;31mKeyboardInterrupt\u001b[0m: "
          ]
        }
      ],
      "source": [
        "for i in trange(100000):\n",
        "    loss, ent = scst_objective_on_batch(\n",
        "        sample_batch(train_words, word_to_translation, 32)[0])  # [0] = only source sentence\n",
        "\n",
        "    # train with backprop\n",
        "    loss.backward()\n",
        "    opt.step()\n",
        "    opt.zero_grad()\n",
        "\n",
        "    loss_history.append(loss.item())\n",
        "    entropy_history.append(ent.item())\n",
        "    debug_list.append(current_scores)\n",
        "    \n",
        "    if (i+1) % REPORT_FREQ == 0:\n",
        "        clear_output(True)\n",
        "        current_scores = score(test_words)\n",
        "        editdist_history.append(current_scores.mean())\n",
        "        plt.figure(figsize=(12, 4))\n",
        "        plt.subplot(131)\n",
        "        plt.title('val score distribution')\n",
        "        plt.hist(current_scores, bins=20)\n",
        "        plt.subplot(132)\n",
        "        plt.title('val score / traning time')\n",
        "        plt.plot(editdist_history)\n",
        "        plt.grid()\n",
        "        plt.subplot(133)\n",
        "        plt.title('policy entropy / traning time')\n",
        "        plt.plot(entropy_history)\n",
        "        plt.grid()\n",
        "        plt.show()\n",
        "        print(\"J=%.3f, mean score=%.3f\" %\n",
        "              (np.mean(loss_history[-10:]), np.mean(editdist_history[-10:])))"
      ]
    },
    {
      "cell_type": "code",
      "execution_count": null,
      "metadata": {
        "id": "dvFVoDbayz1t"
      },
      "outputs": [],
      "source": [
        "a = np.vstack(debug_list)"
      ]
    },
    {
      "cell_type": "code",
      "execution_count": null,
      "metadata": {
        "id": "PvkgSvDryz1v"
      },
      "outputs": [],
      "source": [
        "b = a.reshape((-1))"
      ]
    },
    {
      "cell_type": "code",
      "execution_count": null,
      "metadata": {
        "id": "ajourrAXyz1v",
        "outputId": "31e7a000-009b-4de5-abd9-945abd2bebeb"
      },
      "outputs": [
        {
          "data": {
            "text/plain": [
              "(91500,)"
            ]
          },
          "execution_count": 72,
          "metadata": {},
          "output_type": "execute_result"
        }
      ],
      "source": [
        "b.shape"
      ]
    },
    {
      "cell_type": "code",
      "execution_count": null,
      "metadata": {
        "id": "o3wxEAalyz1x"
      },
      "outputs": [],
      "source": [
        "from collections import Counter"
      ]
    },
    {
      "cell_type": "code",
      "execution_count": null,
      "metadata": {
        "id": "9jxRhQl_yz1x"
      },
      "outputs": [],
      "source": [
        "c = Counter(b)"
      ]
    },
    {
      "cell_type": "code",
      "execution_count": null,
      "metadata": {
        "id": "ZRgJelS8yz1y",
        "outputId": "c52e5c05-27d4-4dcd-8d69-3fa5ace24140"
      },
      "outputs": [
        {
          "data": {
            "text/plain": [
              "[5160,\n",
              " 5260,\n",
              " 7595,\n",
              " 7360,\n",
              " 10305,\n",
              " 8365,\n",
              " 6050,\n",
              " 6775,\n",
              " 6920,\n",
              " 5290,\n",
              " 6320,\n",
              " 4560,\n",
              " 3560,\n",
              " 2675,\n",
              " 2160,\n",
              " 1830,\n",
              " 715,\n",
              " 600]"
            ]
          },
          "execution_count": 91,
          "metadata": {},
          "output_type": "execute_result"
        }
      ],
      "source": [
        "[x[1] for x in sorted(c.items(), key=lambda x: x[0])]"
      ]
    },
    {
      "cell_type": "code",
      "execution_count": null,
      "metadata": {
        "id": "FvwuXvlWyz1z",
        "outputId": "b8289dfd-0334-43a7-e83d-779acb00a119"
      },
      "outputs": [
        {
          "data": {
            "text/plain": [
              "([<matplotlib.axis.XTick at 0x7fe31df5be80>,\n",
              "  <matplotlib.axis.XTick at 0x7fe31df5bbe0>,\n",
              "  <matplotlib.axis.XTick at 0x7fe31df629d0>,\n",
              "  <matplotlib.axis.XTick at 0x7fe31df1bd60>,\n",
              "  <matplotlib.axis.XTick at 0x7fe31df232b0>,\n",
              "  <matplotlib.axis.XTick at 0x7fe31df237c0>,\n",
              "  <matplotlib.axis.XTick at 0x7fe31df23cd0>,\n",
              "  <matplotlib.axis.XTick at 0x7fe31df26220>,\n",
              "  <matplotlib.axis.XTick at 0x7fe31df26730>,\n",
              "  <matplotlib.axis.XTick at 0x7fe31df26c40>,\n",
              "  <matplotlib.axis.XTick at 0x7fe31df26820>,\n",
              "  <matplotlib.axis.XTick at 0x7fe31df238b0>,\n",
              "  <matplotlib.axis.XTick at 0x7fe31df7c700>,\n",
              "  <matplotlib.axis.XTick at 0x7fe31df294f0>,\n",
              "  <matplotlib.axis.XTick at 0x7fe31df29a00>,\n",
              "  <matplotlib.axis.XTick at 0x7fe31df29f10>,\n",
              "  <matplotlib.axis.XTick at 0x7fe31df2b460>,\n",
              "  <matplotlib.axis.XTick at 0x7fe31df2b970>],\n",
              " <a list of 18 Text major ticklabel objects>)"
            ]
          },
          "execution_count": 96,
          "metadata": {},
          "output_type": "execute_result"
        },
        {
          "data": {
            "image/png": "[encoded data removed]",
            "text/plain": [
              "<Figure size 432x288 with 1 Axes>"
            ]
          },
          "metadata": {
            "needs_background": "light"
          },
          "output_type": "display_data"
        }
      ],
      "source": [
        "plt.bar(np.arange(18), [x[1] for x in sorted(c.items(), key=lambda x: x[0])])\n",
        "plt.xticks(np.arange(18))"
      ]
    },
    {
      "cell_type": "code",
      "execution_count": null,
      "metadata": {
        "id": "_wfCcpidyz11",
        "outputId": "584ab253-2078-47f3-d47d-fe1372ba3f31"
      },
      "outputs": [
        {
          "data": {
            "text/plain": [
              "(array([ 5160.,  5260.,  7595.,  7360., 10305.,  8365.,  6050.,  6775.,\n",
              "         6920.,  5290.,  6320.,  4560.,  3560.,  2675.,  2160.,  1830.,\n",
              "          715.,   600.]),\n",
              " array([ 0.       ,  0.9444444,  1.8888888,  2.8333333,  3.7777777,\n",
              "         4.7222223,  5.6666665,  6.611111 ,  7.5555553,  8.5      ,\n",
              "         9.444445 , 10.388889 , 11.333333 , 12.277778 , 13.222222 ,\n",
              "        14.166667 , 15.111111 , 16.055555 , 17.       ], dtype=float32),\n",
              " <a list of 18 Patch objects>)"
            ]
          },
          "execution_count": 95,
          "metadata": {},
          "output_type": "execute_result"
        },
        {
          "data": {
            "image/png": "[encoded data removed]",
            "text/plain": [
              "<Figure size 432x288 with 1 Axes>"
            ]
          },
          "metadata": {
            "needs_background": "light"
          },
          "output_type": "display_data"
        }
      ],
      "source": [
        "plt.hist(b, bins=18)"
      ]
    },
    {
      "cell_type": "markdown",
      "metadata": {
        "id": "UWuTt3gpyz12"
      },
      "source": [
        "__Debugging tips:__\n",
        "![img](https://github.com/yandexdataschool/Practical_RL/raw/master/yet_another_week/_resource/do_something_scst.png)\n",
        "\n",
        " * As usual, don't expect improvements right away, but in general the model should be able to show some positive changes by 5k steps.\n",
        " * Entropy is a good indicator of many problems. \n",
        "   * If it reaches zero, you may need greater entropy regularizer.\n",
        "   * If it has rapid changes time to time, you may need gradient clipping.\n",
        "   * If it oscillates up and down in an erratic manner... it's perfectly okay for entropy to do so. But it should decrease at the end.\n",
        "   \n",
        " * We don't show loss_history cuz it's uninformative for pseudo-losses in policy gradient. However, if something goes wrong you can check it to see if everything isn't a constant zero."
      ]
    },
    {
      "cell_type": "markdown",
      "metadata": {
        "id": "QnGaM5u6yz13"
      },
      "source": [
        "### Results"
      ]
    },
    {
      "cell_type": "code",
      "execution_count": null,
      "metadata": {
        "id": "D8ef5Kqzyz13",
        "outputId": "268bd015-eebf-4ae0-d151-50e1a0912faf"
      },
      "outputs": [
        {
          "name": "stdout",
          "output_type": "stream",
          "text": [
            "כל אנשי סמיילי -> san malsi\n",
            "קטגוריה:ערוץ 2 -> 20\n",
            "עבודה מהבית -> abad mat\n",
            "פראליה -> paralia\n",
            "קפלר 42 -> capler 4\n",
            "קטגוריה:מתאסלמים -> matasm\n",
            "בושמי -> boshi\n",
            "לאונרדו -> lonardo\n",
            "שאמה -> sama\n",
            "עכברה -> abara\n"
          ]
        }
      ],
      "source": [
        "for word in train_words[:10]:\n",
        "    print(\"%s -> %s\" % (word, translate([word])[0]))"
      ]
    },
    {
      "cell_type": "code",
      "execution_count": null,
      "metadata": {
        "id": "3gtJHrCHyz13",
        "outputId": "95b20ce4-a2d7-43ab-9f01-d5097ecb94fb"
      },
      "outputs": [
        {
          "name": "stderr",
          "output_type": "stream",
          "text": [
            "\n",
            "\n",
            "  0%|          | 0/407 [00:00<?, ?it/s]\u001b[A\u001b[A\n",
            "\n",
            "  5%|▍         | 19/407 [00:00<00:02, 182.22it/s]\u001b[A\u001b[A\n",
            "\n",
            "  9%|▉         | 38/407 [00:00<00:02, 184.19it/s]\u001b[A\u001b[A\n",
            "\n",
            " 14%|█▍        | 56/407 [00:00<00:01, 182.52it/s]\u001b[A\u001b[A\n",
            "\n",
            " 18%|█▊        | 74/407 [00:00<00:01, 180.76it/s]\u001b[A\u001b[A\n",
            "\n",
            " 23%|██▎       | 92/407 [00:00<00:01, 180.08it/s]\u001b[A\u001b[A\n",
            "\n",
            " 27%|██▋       | 110/407 [00:00<00:01, 179.32it/s]\u001b[A\u001b[A\n",
            "\n",
            " 31%|███▏      | 128/407 [00:00<00:01, 178.71it/s]\u001b[A\u001b[A\n",
            "\n",
            " 36%|███▌      | 146/407 [00:00<00:01, 178.70it/s]\u001b[A\u001b[A\n",
            "\n",
            " 41%|████      | 165/407 [00:00<00:01, 180.43it/s]\u001b[A\u001b[A\n",
            "\n",
            " 45%|████▍     | 183/407 [00:01<00:01, 179.78it/s]\u001b[A\u001b[A\n",
            "\n",
            " 50%|████▉     | 202/407 [00:01<00:01, 180.36it/s]\u001b[A\u001b[A\n",
            "\n",
            " 54%|█████▍    | 220/407 [00:01<00:01, 178.92it/s]\u001b[A\u001b[A\n",
            "\n",
            " 59%|█████▊    | 239/407 [00:01<00:00, 182.08it/s]\u001b[A\u001b[A\n",
            "\n",
            " 64%|██████▎   | 259/407 [00:01<00:00, 184.63it/s]\u001b[A\u001b[A\n",
            "\n",
            " 68%|██████▊   | 278/407 [00:01<00:00, 186.11it/s]\u001b[A\u001b[A\n",
            "\n",
            " 73%|███████▎  | 297/407 [00:01<00:00, 186.49it/s]\u001b[A\u001b[A\n",
            "\n",
            " 78%|███████▊  | 316/407 [00:01<00:00, 183.98it/s]\u001b[A\u001b[A\n",
            "\n",
            " 82%|████████▏ | 335/407 [00:01<00:00, 185.73it/s]\u001b[A\u001b[A\n",
            "\n",
            " 87%|████████▋ | 355/407 [00:01<00:00, 189.37it/s]\u001b[A\u001b[A\n",
            "\n",
            " 92%|█████████▏| 374/407 [00:02<00:00, 186.99it/s]\u001b[A\u001b[A\n",
            "\n",
            "100%|██████████| 407/407 [00:02<00:00, 183.59it/s]\u001b[A\u001b[A"
          ]
        },
        {
          "name": "stdout",
          "output_type": "stream",
          "text": [
            "Supervised test score: 6.312634491238857\n"
          ]
        },
        {
          "name": "stderr",
          "output_type": "stream",
          "text": [
            "\n"
          ]
        }
      ],
      "source": [
        "test_scores = []\n",
        "for start_i in trange(0, len(test_words), 32):\n",
        "    batch_words = test_words[start_i:start_i+32]\n",
        "    batch_trans = translate(batch_words)\n",
        "    distances = list(map(get_distance, batch_words, batch_trans))\n",
        "    test_scores.extend(distances)\n",
        "print(\"Supervised test score:\", np.mean(test_scores))\n",
        "\n",
        "# ^^ If you get Out Of MemoryError, please replace this with batched computation"
      ]
    },
    {
      "cell_type": "markdown",
      "metadata": {
        "id": "kDbehg4Xyz15"
      },
      "source": [
        "### Bonus area: Make it actually work\n",
        "\n",
        "In this section we want you to finally __restart with EASY_MODE=False__ and experiment to find a good model/curriculum for that task.\n",
        "\n",
        "We recommend you to start with the following architecture\n",
        "\n",
        "```\n",
        "encoder---decoder\n",
        "\n",
        "           P(y|h)\n",
        "             ^\n",
        " LSTM  ->   LSTM\n",
        "  ^          ^\n",
        " biLSTM  ->   LSTM\n",
        "  ^          ^\n",
        "input       y_prev\n",
        "```\n",
        "\n",
        "__Note:__ you can fit all 4 state tensors of both LSTMs into a in a single state - just assume that it contains, for example, [h0, c0, h1, c1] - pack it in encode and update in decode.\n",
        "\n",
        "\n",
        "Here are some cool ideas on what you can do then.\n",
        "\n",
        "__General tips & tricks:__\n",
        "* You will likely need to adjust pre-training time for such a network.\n",
        "* Supervised pre-training may benefit from clipping gradients somehow.\n",
        "* SCST may indulge a higher learning rate in some cases and changing entropy regularizer over time.\n",
        "* It's often useful to save pre-trained model parameters to not re-train it every time you want new policy gradient parameters. \n",
        "* When leaving training for nighttime, try setting REPORT_FREQ to a larger value (e.g. 500) not to waste time on it.\n",
        "\n",
        "__Formal criteria:__\n",
        "Build an architecture that:\n",
        "* _doesn't consist of single GRU_\n",
        "* _works better_ than single GRU baseline. \n",
        "* We also want you to provide either learning curve or trained model, preferably both\n",
        "* ... and write a brief report or experiment log describing what you did and how it fared.\n",
        "\n",
        "### Attention\n",
        "There's more than one way to connect decoder to encoder\n",
        "  * __Vanilla:__ layer_i of encoder last state goes to layer_i of decoder initial state\n",
        "  * __Every tick:__ feed encoder last state _on every iteration_ of decoder.\n",
        "  * __Attention:__ allow decoder to \"peek\" at one (or several) positions of encoded sequence on every tick.\n",
        "  \n",
        "The most effective (and cool) of those is, of course, attention.\n",
        "You can read more about attention [in this nice blog post](https://distill.pub/2016/augmented-rnns/). The easiest way to begin is to use \"soft\" attention with \"additive\" or \"dot-product\" intermediate layers.\n",
        "\n",
        "__Tips__\n",
        "* Model usually generalizes better if you no longer allow decoder to see final encoder state\n",
        "* Once your model made it through several epochs, it is a good idea to visualize attention maps to understand what your model has actually learned\n",
        "\n",
        "* There's more stuff [here](https://github.com/yandexdataschool/Practical_RL/blob/master/week8_scst/bonus.ipynb)\n",
        "* If you opted for hard attention, we recommend [gumbel-softmax](https://blog.evjang.com/2016/11/tutorial-categorical-variational.html) instead of sampling. Also please make sure soft attention works fine before you switch to hard.\n",
        "\n",
        "### UREX\n",
        "* This is a way to improve exploration in policy-based settings. The main idea is that you find and upweight under-appreciated actions.\n",
        "* Here's [video](https://www.youtube.com/watch?v=fZNyHoXgV7M&feature=youtu.be&t=3444)\n",
        " and an [article](https://arxiv.org/abs/1611.09321).\n",
        "* You may want to reduce batch size 'cuz UREX requires you to sample multiple times per source sentence.\n",
        "* Once you got it working, try using experience replay with importance sampling instead of (in addition to) basic UREX.\n",
        "\n",
        "### Some additional ideas:\n",
        "* (advanced deep learning) It may be a good idea to first train on small phrases and then adapt to larger ones (a.k.a. training curriculum).\n",
        "* (advanced nlp) You may want to switch from raw utf8 to something like unicode or even syllables to make task easier.\n",
        "* (advanced nlp) Since hebrew words are written __with vowels omitted__, you may want to use a small Hebrew vowel markup dataset at `he-pron-wiktionary.txt`.\n",
        "\n"
      ]
    },
    {
      "cell_type": "code",
      "execution_count": null,
      "metadata": {
        "id": "mTHNkmFkyz15"
      },
      "outputs": [],
      "source": [
        "assert not EASY_MODE, \"make sure you set EASY_MODE = False at the top of the notebook.\""
      ]
    },
    {
      "cell_type": "markdown",
      "metadata": {
        "id": "6IMEUw3Nyz15"
      },
      "source": [
        "`[your report/log here or anywhere you please]`"
      ]
    },
    {
      "cell_type": "markdown",
      "metadata": {
        "id": "QWClyo4ryz16"
      },
      "source": [
        "__Contributions:__ This notebook is brought to you by\n",
        "* Yandex [MT team](https://tech.yandex.com/translate/)\n",
        "* Denis Mazur ([DeniskaMazur](https://github.com/DeniskaMazur)), Oleg Vasilev ([Omrigan](https://github.com/Omrigan/)), Dmitry Emelyanenko ([TixFeniks](https://github.com/tixfeniks)) and Fedor Ratnikov ([justheuristic](https://github.com/justheuristic/))\n",
        "* Dataset is parsed from [Wiktionary](https://en.wiktionary.org), which is under CC-BY-SA and GFDL licenses.\n"
      ]
    }
  ],
  "metadata": {
    "kernelspec": {
      "display_name": "py3_research env",
      "language": "python",
      "name": "py3_research"
    },
    "language_info": {
      "codemirror_mode": {
        "name": "ipython",
        "version": 3
      },
      "file_extension": ".py",
      "mimetype": "text/x-python",
      "name": "python",
      "nbconvert_exporter": "python",
      "pygments_lexer": "ipython3",
      "version": "3.8.1"
    },
    "colab": {
      "name": "week08_RL_for_seq2seq.ipynb",
      "provenance": [],
      "collapsed_sections": [
        "04IJna5iyz1E",
        "VQYZIyMyyz1Y",
        "6ut7U1Rjyz1a",
        "TsbKUHzoyz1m",
        "eOERZ9oByz1o",
        "QnGaM5u6yz13",
        "kDbehg4Xyz15"
      ]
    }
  },
  "nbformat": 4,
  "nbformat_minor": 0
}